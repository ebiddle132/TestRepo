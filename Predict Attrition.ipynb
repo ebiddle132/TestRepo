{
    "metadata": {
        "language_info": {
            "codemirror_mode": {
                "version": 3, 
                "name": "ipython"
            }, 
            "nbconvert_exporter": "python", 
            "file_extension": ".py", 
            "version": "3.5.4", 
            "mimetype": "text/x-python", 
            "pygments_lexer": "ipython3", 
            "name": "python"
        }, 
        "kernelspec": {
            "display_name": "Python 3.5 with Spark", 
            "language": "python3", 
            "name": "python3"
        }
    }, 
    "nbformat": 4, 
    "cells": [
        {
            "metadata": {}, 
            "outputs": [
                {
                    "output_type": "stream", 
                    "text": "Scoring response\n\nEmployee Attrition: Yes\n\tConfidence: ([0.3201141702167826, 0.6798858297832174], ['No', 'Yes'])\n\tFields [41, 'Travel_Rarely', 1102, 'Sales', 1, 2, 'Life Sciences', 2, 'Female', 94, 3, 2, 'Sales Executive', 4, 'Single', 5993, 19479, 8, 'Yes', 11, 3, 1, 0, 8, 0, 1, 6, 4, 0, 5]\n\nEmployee Attrition: No\n\tConfidence: ([0.999993202040599, 6.797959400901486e-06], ['No', 'Yes'])\n\tFields [49, 'Travel_Frequently', 279, 'Research & Development', 8, 1, 'Life Sciences', 3, 'Male', 61, 23, 2, 'Research Scientist', 2, 'Married', 5130, 24907, 1, 'No', 23, 4, 4, 1, 10, 3, 3, 10, 7, 1, 7]\n", 
                    "name": "stdout"
                }
            ], 
            "cell_type": "code", 
            "execution_count": 8, 
            "source": "import urllib3, requests, json\n\n# retrieve your wml_service_credentials_username, wml_service_credentials_password, and wml_service_credentials_url from the\n# Service credentials associated with your IBM Cloud Watson Machine Learning Service instance\n\nwml_credentials={\n    \"url\": \"https://eu-gb.ml.cloud.ibm.com\",\n    \"username\": \"b6c7df7a-0219-42b4-ac40-10a48f16ba6f\",\n    \"password\": \"40277ebd-fdc1-499b-b7ca-71603055a9c2\"\n}\n\nheaders = urllib3.util.make_headers(basic_auth='{username}:{password}'.format(username=wml_credentials['username'], password=wml_credentials['password']))\nurl = '{}/v3/identity/token'.format(wml_credentials['url'])\nresponse = requests.get(url, headers=headers)\nmltoken = json.loads(response.text).get('token')\n\nheader = {'Content-Type': 'application/json', 'Authorization': 'Bearer ' + mltoken}\n\narray_of_values_to_be_scored = [41, 'Travel_Rarely', 1102, 'Sales', 1, 2, 'Life Sciences', 2, 'Female', 94, 3, 2, 'Sales Executive', 4, 'Single', 5993, 19479, 8, 'Yes', 11, 3, 1, 0, 8, 0, 1, 6, 4, 0, 5]\nanother_array_of_values_to_be_scored = [49, 'Travel_Frequently', 279, 'Research & Development', 8, 1, 'Life Sciences', 3, 'Male', 61,23, 2, 'Research Scientist', 2, 'Married', 5130, 24907, 1, 'No', 23, 4, 4, 1, 10, 3, 3, 10, 7, 1, 7]\n# NOTE: manually define and pass the array(s) of values to be scored in the next line\npayload_scoring = {\"fields\": [\"Age\", \"BusinessTravel\", \"DailyRate\", \"Department\", \"DistanceFromHome\", \"Education\", \"EducationField\", \"EnvironmentSatisfaction\", \"Gender\", \"HourlyRate\", \"JobInvolvement\", \"JobLevel\", \"JobRole\", \"JobSatisfaction\", \"MaritalStatus\", \"MonthlyIncome\", \"MonthlyRate\", \"NumCompaniesWorked\", \"OverTime\", \"PercentSalaryHike\", \"PerformanceRating\", \"RelationshipSatisfaction\", \"StockOptionLevel\", \"TotalWorkingYears\", \"TrainingTimesLastYear\", \"WorkLifeBalance\", \"YearsAtCompany\", \"YearsInCurrentRole\", \"YearsSinceLastPromotion\", \"YearsWithCurrManager\"], \"values\": [array_of_values_to_be_scored, another_array_of_values_to_be_scored]}\n\nresponse_scoring = requests.post('https://eu-gb.ml.cloud.ibm.com/v3/wml_instances/e954ffef-71ec-4b37-b937-5036eb23abd7/deployments/8f87e49a-b7aa-4f59-9516-faa7518a1b8b/online', json=payload_scoring, headers=header)\nprint(\"Scoring response\")\n#print(json.loads(response_scoring.text))\n\nparsed = json.loads(response_scoring.text)\n\nfor value in parsed['values']:\n    fields = value[:30]\n    confidence = value[32]\n    prediction = value[34]\n    values = value[35]\n    print(\"\\nEmployee Attrition: {}\\n\\tConfidence: {}\\n\\tFields {}\".format(prediction,(confidence,values), fields))"
        }, 
        {
            "metadata": {}, 
            "outputs": [], 
            "cell_type": "code", 
            "execution_count": null, 
            "source": ""
        }
    ], 
    "nbformat_minor": 1
}